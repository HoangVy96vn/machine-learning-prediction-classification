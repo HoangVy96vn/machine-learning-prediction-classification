{
 "cells": [
  {
   "cell_type": "code",
   "execution_count": 1,
   "id": "b0b5d219",
   "metadata": {},
   "outputs": [],
   "source": [
    "import pandas as pd\n",
    "import numpy as np\n",
    "from sklearn.model_selection import train_test_split\n",
    "\n",
    "import xgboost as xgb\n",
    "from sklearn.preprocessing import LabelEncoder\n",
    "from sklearn.metrics import accuracy_score\n",
    "\n",
    "import matplotlib.pyplot as plt\n",
    "from sklearn.metrics import plot_confusion_matrix\n",
    "from sklearn.preprocessing import MinMaxScaler"
   ]
  },
  {
   "cell_type": "code",
   "execution_count": 2,
   "id": "0bcff4a6",
   "metadata": {},
   "outputs": [],
   "source": [
    "df = pd.read_csv('train.csv')\n",
    "\n",
    "# Create dataset onehot\n",
    "df_dummy = pd.get_dummies(df,drop_first=True)\n",
    "\n",
    "x = df_dummy.drop(['churn_yes'], axis = 1)\n",
    "y = df_dummy['churn_yes']\n",
    "\n",
    "x_train, x_test, y_train, y_test = train_test_split(x, y , test_size = 0.2, random_state=42, stratify = y)\n"
   ]
  },
  {
   "cell_type": "code",
   "execution_count": 16,
   "id": "6c76cf22",
   "metadata": {},
   "outputs": [
    {
     "name": "stdout",
     "output_type": "stream",
     "text": [
      "[0]\tvalidation_0-aucpr:0.78823\n",
      "[1]\tvalidation_0-aucpr:0.82263\n",
      "[2]\tvalidation_0-aucpr:0.81561\n",
      "[3]\tvalidation_0-aucpr:0.81619\n",
      "[4]\tvalidation_0-aucpr:0.82432\n",
      "[5]\tvalidation_0-aucpr:0.83197\n",
      "[6]\tvalidation_0-aucpr:0.83632\n",
      "[7]\tvalidation_0-aucpr:0.83460\n",
      "[8]\tvalidation_0-aucpr:0.83856\n",
      "[9]\tvalidation_0-aucpr:0.84438\n",
      "[10]\tvalidation_0-aucpr:0.84542\n",
      "[11]\tvalidation_0-aucpr:0.84624\n",
      "[12]\tvalidation_0-aucpr:0.84743\n",
      "[13]\tvalidation_0-aucpr:0.84631\n",
      "[14]\tvalidation_0-aucpr:0.84591\n",
      "[15]\tvalidation_0-aucpr:0.84620\n",
      "[16]\tvalidation_0-aucpr:0.84701\n",
      "[17]\tvalidation_0-aucpr:0.84756\n",
      "[18]\tvalidation_0-aucpr:0.84774\n",
      "[19]\tvalidation_0-aucpr:0.84675\n",
      "[20]\tvalidation_0-aucpr:0.84665\n",
      "[21]\tvalidation_0-aucpr:0.84595\n",
      "[22]\tvalidation_0-aucpr:0.84821\n",
      "[23]\tvalidation_0-aucpr:0.84868\n",
      "[24]\tvalidation_0-aucpr:0.84998\n",
      "[25]\tvalidation_0-aucpr:0.84975\n",
      "[26]\tvalidation_0-aucpr:0.85032\n",
      "[27]\tvalidation_0-aucpr:0.85045\n",
      "[28]\tvalidation_0-aucpr:0.85042\n",
      "[29]\tvalidation_0-aucpr:0.84968\n",
      "[30]\tvalidation_0-aucpr:0.85065\n",
      "[31]\tvalidation_0-aucpr:0.84902\n",
      "[32]\tvalidation_0-aucpr:0.84953\n",
      "[33]\tvalidation_0-aucpr:0.84825\n",
      "[34]\tvalidation_0-aucpr:0.84813\n",
      "[35]\tvalidation_0-aucpr:0.84825\n",
      "[36]\tvalidation_0-aucpr:0.84769\n",
      "[37]\tvalidation_0-aucpr:0.84784\n",
      "[38]\tvalidation_0-aucpr:0.84750\n",
      "[39]\tvalidation_0-aucpr:0.84836\n",
      "[40]\tvalidation_0-aucpr:0.84873\n"
     ]
    },
    {
     "data": {
      "text/plain": [
       "XGBClassifier(base_score=None, booster=None, callbacks=None,\n",
       "              colsample_bylevel=None, colsample_bynode=None,\n",
       "              colsample_bytree=None, early_stopping_rounds=10,\n",
       "              enable_categorical=False, eval_metric=None, feature_types=None,\n",
       "              gamma=None, gpu_id=None, grow_policy=None, importance_type=None,\n",
       "              interaction_constraints=None, learning_rate=None, max_bin=None,\n",
       "              max_cat_threshold=None, max_cat_to_onehot=None,\n",
       "              max_delta_step=None, max_depth=None, max_leaves=None,\n",
       "              min_child_weight=None, missing=nan, monotone_constraints=None,\n",
       "              n_estimators=100, n_jobs=None, num_parallel_tree=None,\n",
       "              predictor=None, random_state=None, ...)"
      ]
     },
     "execution_count": 16,
     "metadata": {},
     "output_type": "execute_result"
    }
   ],
   "source": [
    "model_xgb =  xgb.XGBClassifier(objective='binary:logistic',seed = 42, early_stopping_rounds=10)\n",
    "model_xgb.fit (x_train, y_train,\n",
    "              verbose = True,\n",
    "              eval_metric = 'aucpr',\n",
    "              eval_set = [(x_test, y_test)])"
   ]
  },
  {
   "cell_type": "code",
   "execution_count": 17,
   "id": "821d43a3",
   "metadata": {},
   "outputs": [
    {
     "name": "stdout",
     "output_type": "stream",
     "text": [
      "Accuracy: 95.65%\n"
     ]
    }
   ],
   "source": [
    "accuracy = model_xgb.score(x_test, y_test)\n",
    "print(\"Accuracy: {:.2f}%\".format(accuracy*100))"
   ]
  },
  {
   "cell_type": "code",
   "execution_count": 18,
   "id": "56e628cf",
   "metadata": {},
   "outputs": [
    {
     "name": "stderr",
     "output_type": "stream",
     "text": [
      "C:\\Users\\vy\\anaconda3\\lib\\site-packages\\sklearn\\utils\\deprecation.py:87: FutureWarning: Function plot_confusion_matrix is deprecated; Function `plot_confusion_matrix` is deprecated in 1.0 and will be removed in 1.2. Use one of the class methods: ConfusionMatrixDisplay.from_predictions or ConfusionMatrixDisplay.from_estimator.\n",
      "  warnings.warn(msg, category=FutureWarning)\n"
     ]
    },
    {
     "data": {
      "text/plain": [
       "<sklearn.metrics._plot.confusion_matrix.ConfusionMatrixDisplay at 0x2347ac92970>"
      ]
     },
     "execution_count": 18,
     "metadata": {},
     "output_type": "execute_result"
    },
    {
     "data": {
      "image/png": "[encoded data removed]",
      "text/plain": [
       "<Figure size 640x480 with 2 Axes>"
      ]
     },
     "metadata": {},
     "output_type": "display_data"
    }
   ],
   "source": [
    "plot_confusion_matrix(model_xgb, x_test, y_test, values_format='d', display_labels=['Yes','No'])"
   ]
  },
  {
   "cell_type": "code",
   "execution_count": 20,
   "id": "17790b01",
   "metadata": {},
   "outputs": [
    {
     "name": "stdout",
     "output_type": "stream",
     "text": [
      "              precision    recall  f1-score   support\n",
      "\n",
      "           0       0.96      0.99      0.98       730\n",
      "           1       0.96      0.72      0.82       120\n",
      "\n",
      "    accuracy                           0.96       850\n",
      "   macro avg       0.96      0.86      0.90       850\n",
      "weighted avg       0.96      0.96      0.95       850\n",
      "\n"
     ]
    }
   ],
   "source": [
    "from sklearn.metrics import classification_report\n",
    "\n",
    "#Performance evaluation\n",
    "def print_scores(y_true, y_pred):\n",
    "  print(classification_report(y_true, y_pred))\n",
    "\n",
    "#predict\n",
    "y_pred = model_xgb.predict(x_test)\n",
    "\n",
    "print_scores(y_test,y_pred)"
   ]
  },
  {
   "cell_type": "code",
   "execution_count": 21,
   "id": "c051375c",
   "metadata": {},
   "outputs": [
    {
     "data": {
      "text/plain": [
       "0.725"
      ]
     },
     "execution_count": 21,
     "metadata": {},
     "output_type": "execute_result"
    }
   ],
   "source": [
    "87/(87+33)"
   ]
  }
 ],
 "metadata": {
  "kernelspec": {
   "display_name": "Python 3 (ipykernel)",
   "language": "python",
   "name": "python3"
  },
  "language_info": {
   "codemirror_mode": {
    "name": "ipython",
    "version": 3
   },
   "file_extension": ".py",
   "mimetype": "text/x-python",
   "name": "python",
   "nbconvert_exporter": "python",
   "pygments_lexer": "ipython3",
   "version": "3.9.13"
  }
 },
 "nbformat": 4,
 "nbformat_minor": 5
}
